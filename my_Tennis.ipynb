{
 "cells": [
  {
   "cell_type": "markdown",
   "metadata": {},
   "source": [
    "# Collaboration and Competition\n",
    "\n",
    "---\n",
    "\n",
    "In this notebook, you will learn how to use the Unity ML-Agents environment for the third project of the [Deep Reinforcement Learning Nanodegree](https://www.udacity.com/course/deep-reinforcement-learning-nanodegree--nd893) program.\n",
    "\n",
    "### 1. Start the Environment\n",
    "\n",
    "We begin by importing the necessary packages.  If the code cell below returns an error, please revisit the project instructions to double-check that you have installed [Unity ML-Agents](https://github.com/Unity-Technologies/ml-agents/blob/master/docs/Installation.md) and [NumPy](http://www.numpy.org/)."
   ]
  },
  {
   "cell_type": "code",
   "execution_count": 1,
   "metadata": {},
   "outputs": [],
   "source": [
    "from unityagents import UnityEnvironment\n",
    "import numpy as np\n",
    "import matplotlib.pyplot as plt\n",
    "import torch\n",
    "import time"
   ]
  },
  {
   "cell_type": "markdown",
   "metadata": {},
   "source": [
    "Next, we will start the environment!  **_Before running the code cell below_**, change the `file_name` parameter to match the location of the Unity environment that you downloaded.\n",
    "\n",
    "- **Mac**: `\"path/to/Tennis.app\"`\n",
    "- **Windows** (x86): `\"path/to/Tennis_Windows_x86/Tennis.exe\"`\n",
    "- **Windows** (x86_64): `\"path/to/Tennis_Windows_x86_64/Tennis.exe\"`\n",
    "- **Linux** (x86): `\"path/to/Tennis_Linux/Tennis.x86\"`\n",
    "- **Linux** (x86_64): `\"path/to/Tennis_Linux/Tennis.x86_64\"`\n",
    "- **Linux** (x86, headless): `\"path/to/Tennis_Linux_NoVis/Tennis.x86\"`\n",
    "- **Linux** (x86_64, headless): `\"path/to/Tennis_Linux_NoVis/Tennis.x86_64\"`\n",
    "\n",
    "For instance, if you are using a Mac, then you downloaded `Tennis.app`.  If this file is in the same folder as the notebook, then the line below should appear as follows:\n",
    "```\n",
    "env = UnityEnvironment(file_name=\"Tennis.app\")\n",
    "```"
   ]
  },
  {
   "cell_type": "code",
   "execution_count": 2,
   "metadata": {},
   "outputs": [
    {
     "name": "stderr",
     "output_type": "stream",
     "text": [
      "INFO:unityagents:\n",
      "'Academy' started successfully!\n",
      "Unity Academy name: Academy\n",
      "        Number of Brains: 1\n",
      "        Number of External Brains : 1\n",
      "        Lesson number : 0\n",
      "        Reset Parameters :\n",
      "\t\t\n",
      "Unity brain name: TennisBrain\n",
      "        Number of Visual Observations (per agent): 0\n",
      "        Vector Observation space type: continuous\n",
      "        Vector Observation space size (per agent): 8\n",
      "        Number of stacked Vector Observation: 3\n",
      "        Vector Action space type: continuous\n",
      "        Vector Action space size (per agent): 2\n",
      "        Vector Action descriptions: , \n"
     ]
    }
   ],
   "source": [
    "env = UnityEnvironment(file_name=\"../Tennis.app\")"
   ]
  },
  {
   "cell_type": "markdown",
   "metadata": {},
   "source": [
    "Environments contain **_brains_** which are responsible for deciding the actions of their associated agents. Here we check for the first brain available, and set it as the default brain we will be controlling from Python."
   ]
  },
  {
   "cell_type": "code",
   "execution_count": 3,
   "metadata": {},
   "outputs": [],
   "source": [
    "# get the default brain\n",
    "brain_name = env.brain_names[0]\n",
    "brain = env.brains[brain_name]"
   ]
  },
  {
   "cell_type": "markdown",
   "metadata": {},
   "source": [
    "### 2. Examine the State and Action Spaces\n",
    "\n",
    "In this environment, two agents control rackets to bounce a ball over a net. If an agent hits the ball over the net, it receives a reward of +0.1.  If an agent lets a ball hit the ground or hits the ball out of bounds, it receives a reward of -0.01.  Thus, the goal of each agent is to keep the ball in play.\n",
    "\n",
    "The observation space consists of 8 variables corresponding to the position and velocity of the ball and racket. Two continuous actions are available, corresponding to movement toward (or away from) the net, and jumping. \n",
    "\n",
    "Run the code cell below to print some information about the environment."
   ]
  },
  {
   "cell_type": "code",
   "execution_count": 4,
   "metadata": {},
   "outputs": [
    {
     "name": "stdout",
     "output_type": "stream",
     "text": [
      "Number of agents: 2\n",
      "Size of each action: 2\n",
      "There are 2 agents. Each observes a state with length: 24\n",
      "The state for the first agent looks like: [ 0.          0.          0.          0.          0.          0.\n",
      "  0.          0.          0.          0.          0.          0.\n",
      "  0.          0.          0.          0.         -6.65278625 -1.5\n",
      " -0.          0.          6.83172083  6.         -0.          0.        ]\n"
     ]
    }
   ],
   "source": [
    "# reset the environment\n",
    "env_info = env.reset(train_mode=True)[brain_name]\n",
    "\n",
    "# number of agents \n",
    "num_agents = len(env_info.agents)\n",
    "print('Number of agents:', num_agents)\n",
    "\n",
    "# size of each action\n",
    "action_size = brain.vector_action_space_size\n",
    "print('Size of each action:', action_size)\n",
    "\n",
    "# examine the state space \n",
    "states = env_info.vector_observations\n",
    "state_size = states.shape[1]\n",
    "print('There are {} agents. Each observes a state with length: {}'.format(states.shape[0], state_size))\n",
    "print('The state for the first agent looks like:', states[0])"
   ]
  },
  {
   "cell_type": "markdown",
   "metadata": {},
   "source": [
    "### 3. training agents"
   ]
  },
  {
   "cell_type": "code",
   "execution_count": 5,
   "metadata": {},
   "outputs": [],
   "source": [
    "from ddpg_agent import Agent\n",
    "\n",
    "agent = Agent(\n",
    "    state_size=state_size,\n",
    "    action_size=action_size,\n",
    "    random_seed=0,\n",
    ")\n",
    "\n",
    "n_episodes = 2000\n",
    "epsilon_decay = 0.9995\n",
    "epsilon_min = 0.01\n",
    "epsilon = 1"
   ]
  },
  {
   "cell_type": "code",
   "execution_count": 6,
   "metadata": {
    "scrolled": true
   },
   "outputs": [
    {
     "name": "stderr",
     "output_type": "stream",
     "text": [
      "/Users/maeday/work/udacity/rl/p3/p3_submission/ddpg_agent.py:108: UserWarning: torch.nn.utils.clip_grad_norm is now deprecated in favor of torch.nn.utils.clip_grad_norm_.\n",
      "  torch.nn.utils.clip_grad_norm(self.critic_local.parameters(), 1)\n"
     ]
    },
    {
     "name": "stdout",
     "output_type": "stream",
     "text": [
      "Score (max over agents) from episode 10: 0.00000 / 0.01800 (0.583 s, buf_size=350, epsilon=0.91620)\n",
      "Score (max over agents) from episode 20: 0.00000 / 0.01850 (0.444 s, buf_size=702, epsilon=0.83900)\n",
      "Score (max over agents) from episode 30: 0.00000 / 0.01567 (0.469 s, buf_size=1052, epsilon=0.76869)\n",
      "Score (max over agents) from episode 40: 0.09000 / 0.01400 (0.962 s, buf_size=1368, epsilon=0.71029)\n",
      "Score (max over agents) from episode 50: 0.00000 / 0.01320 (0.480 s, buf_size=1692, epsilon=0.65501)\n",
      "Score (max over agents) from episode 60: 0.09000 / 0.01567 (0.925 s, buf_size=2118, epsilon=0.58882)\n",
      "Score (max over agents) from episode 70: 0.00000 / 0.01614 (0.470 s, buf_size=2542, epsilon=0.52959)\n",
      "Score (max over agents) from episode 80: 0.00000 / 0.01650 (0.426 s, buf_size=2892, epsilon=0.48521)\n",
      "Score (max over agents) from episode 90: 0.00000 / 0.01678 (0.447 s, buf_size=3242, epsilon=0.44455)\n",
      "Score (max over agents) from episode 100: 0.09000 / 0.01690 (0.916 s, buf_size=3592, epsilon=0.40729)\n",
      "Score (max over agents) from episode 110: 0.00000 / 0.01600 (0.439 s, buf_size=3914, epsilon=0.37578)\n",
      "Score (max over agents) from episode 120: 0.00000 / 0.01410 (0.440 s, buf_size=4198, epsilon=0.35002)\n",
      "Score (max over agents) from episode 130: 0.00000 / 0.01410 (0.427 s, buf_size=4514, epsilon=0.32343)\n",
      "Score (max over agents) from episode 140: 0.00000 / 0.01320 (0.438 s, buf_size=4796, epsilon=0.30141)\n",
      "Score (max over agents) from episode 150: 0.00000 / 0.01220 (0.438 s, buf_size=5082, epsilon=0.28060)\n",
      "Score (max over agents) from episode 160: 0.00000 / 0.00940 (0.462 s, buf_size=5364, epsilon=0.26150)\n",
      "Score (max over agents) from episode 170: 0.00000 / 0.00750 (0.471 s, buf_size=5646, epsilon=0.24369)\n",
      "Score (max over agents) from episode 180: 0.00000 / 0.00560 (0.446 s, buf_size=5932, epsilon=0.22687)\n",
      "Score (max over agents) from episode 190: 0.00000 / 0.00370 (0.492 s, buf_size=6216, epsilon=0.21132)\n",
      "Score (max over agents) from episode 200: 0.00000 / 0.00190 (0.427 s, buf_size=6500, epsilon=0.19683)\n",
      "Score (max over agents) from episode 210: 0.00000 / 0.00100 (0.460 s, buf_size=6784, epsilon=0.18334)\n",
      "Score (max over agents) from episode 220: 0.00000 / 0.00100 (0.431 s, buf_size=7068, epsilon=0.17077)\n",
      "Score (max over agents) from episode 230: 0.00000 / 0.00000 (0.431 s, buf_size=7352, epsilon=0.15906)\n",
      "Score (max over agents) from episode 240: 0.00000 / 0.00100 (0.464 s, buf_size=7680, epsilon=0.14654)\n",
      "Score (max over agents) from episode 250: 0.00000 / 0.00100 (0.427 s, buf_size=7966, epsilon=0.13642)\n",
      "Score (max over agents) from episode 260: 0.00000 / 0.00200 (0.460 s, buf_size=8292, epsilon=0.12574)\n",
      "Score (max over agents) from episode 270: 0.00000 / 0.00200 (0.436 s, buf_size=8582, epsilon=0.11695)\n",
      "Score (max over agents) from episode 280: 0.00000 / 0.00200 (0.485 s, buf_size=8866, epsilon=0.10893)\n",
      "Score (max over agents) from episode 290: 0.00000 / 0.00200 (0.424 s, buf_size=9150, epsilon=0.10146)\n",
      "Score (max over agents) from episode 300: 0.00000 / 0.00200 (0.444 s, buf_size=9434, epsilon=0.09451)\n",
      "Score (max over agents) from episode 310: 0.00000 / 0.00300 (0.439 s, buf_size=9762, epsilon=0.08706)\n",
      "Score (max over agents) from episode 320: 0.00000 / 0.00300 (0.471 s, buf_size=10046, epsilon=0.08110)\n",
      "Score (max over agents) from episode 330: 0.00000 / 0.00300 (0.429 s, buf_size=10330, epsilon=0.07554)\n",
      "Score (max over agents) from episode 340: 0.00000 / 0.00200 (0.443 s, buf_size=10614, epsilon=0.07036)\n",
      "Score (max over agents) from episode 350: 0.00000 / 0.00200 (0.440 s, buf_size=10898, epsilon=0.06553)\n",
      "Score (max over agents) from episode 360: 0.00000 / 0.00100 (0.516 s, buf_size=11182, epsilon=0.06104)\n",
      "Score (max over agents) from episode 370: 0.00000 / 0.00100 (0.437 s, buf_size=11466, epsilon=0.05686)\n",
      "Score (max over agents) from episode 380: 0.00000 / 0.00100 (0.439 s, buf_size=11750, epsilon=0.05296)\n",
      "Score (max over agents) from episode 390: 0.00000 / 0.00100 (0.434 s, buf_size=12034, epsilon=0.04933)\n",
      "Score (max over agents) from episode 400: 0.00000 / 0.00400 (0.440 s, buf_size=12464, epsilon=0.04430)\n",
      "Score (max over agents) from episode 410: 0.00000 / 0.00400 (0.450 s, buf_size=12786, epsilon=0.04087)\n",
      "Score (max over agents) from episode 420: 0.00000 / 0.00700 (0.437 s, buf_size=13166, epsilon=0.03717)\n",
      "Score (max over agents) from episode 430: 0.09000 / 0.00980 (0.990 s, buf_size=13630, epsilon=0.03310)\n",
      "Score (max over agents) from episode 440: 0.00000 / 0.01360 (0.434 s, buf_size=14054, epsilon=0.02977)\n",
      "Score (max over agents) from episode 450: 0.00000 / 0.01650 (0.443 s, buf_size=14444, epsilon=0.02700)\n",
      "Score (max over agents) from episode 460: 0.09000 / 0.02310 (0.942 s, buf_size=14962, epsilon=0.02372)\n",
      "Score (max over agents) from episode 470: 0.00000 / 0.02890 (0.461 s, buf_size=15492, epsilon=0.02078)\n",
      "Score (max over agents) from episode 480: 0.09000 / 0.03270 (0.972 s, buf_size=15952, epsilon=0.01852)\n",
      "Score (max over agents) from episode 490: 0.00000 / 0.03460 (0.526 s, buf_size=16382, epsilon=0.01663)\n",
      "Score (max over agents) from episode 500: 0.09000 / 0.03440 (1.130 s, buf_size=16804, epsilon=0.01496)\n",
      "Score (max over agents) from episode 510: 0.00000 / 0.03820 (0.435 s, buf_size=17252, epsilon=0.01338)\n",
      "Score (max over agents) from episode 520: 0.00000 / 0.04090 (0.436 s, buf_size=17740, epsilon=0.01184)\n",
      "Score (max over agents) from episode 530: 0.00000 / 0.04000 (0.502 s, buf_size=18104, epsilon=0.01081)\n",
      "Score (max over agents) from episode 540: 0.00000 / 0.04280 (0.426 s, buf_size=18616, epsilon=0.00951)\n",
      "Score (max over agents) from episode 550: 0.00000 / 0.04470 (0.442 s, buf_size=19090, epsilon=0.00845)\n",
      "Score (max over agents) from episode 560: 0.00000 / 0.04290 (0.544 s, buf_size=19592, epsilon=0.00745)\n",
      "Score (max over agents) from episode 570: 0.00000 / 0.04170 (0.435 s, buf_size=20064, epsilon=0.00662)\n",
      "Score (max over agents) from episode 580: 0.00000 / 0.04370 (0.429 s, buf_size=20578, epsilon=0.00582)\n",
      "Score (max over agents) from episode 590: 0.10000 / 0.04770 (0.893 s, buf_size=21060, epsilon=0.00516)\n",
      "Score (max over agents) from episode 600: 0.00000 / 0.04950 (0.524 s, buf_size=21514, epsilon=0.00461)\n",
      "Score (max over agents) from episode 610: 0.10000 / 0.04850 (0.952 s, buf_size=21982, epsilon=0.00410)\n",
      "Score (max over agents) from episode 620: 0.00000 / 0.04760 (0.468 s, buf_size=22486, epsilon=0.00361)\n",
      "Score (max over agents) from episode 630: 0.00000 / 0.04950 (0.786 s, buf_size=22964, epsilon=0.00321)\n",
      "Score (max over agents) from episode 640: 0.00000 / 0.04770 (0.466 s, buf_size=23406, epsilon=0.00287)\n",
      "Score (max over agents) from episode 650: 0.10000 / 0.05050 (1.464 s, buf_size=23980, epsilon=0.00249)\n",
      "Score (max over agents) from episode 660: 0.00000 / 0.05420 (0.517 s, buf_size=24626, epsilon=0.00212)\n",
      "Score (max over agents) from episode 670: 0.10000 / 0.05830 (0.956 s, buf_size=25204, epsilon=0.00183)\n",
      "Score (max over agents) from episode 680: 0.09000 / 0.06080 (0.969 s, buf_size=25792, epsilon=0.00158)\n",
      "Score (max over agents) from episode 690: 0.09000 / 0.06250 (1.212 s, buf_size=26340, epsilon=0.00138)\n",
      "Score (max over agents) from episode 700: 0.10000 / 0.06660 (1.043 s, buf_size=26918, epsilon=0.00119)\n",
      "Score (max over agents) from episode 710: 0.10000 / 0.07040 (0.984 s, buf_size=27460, epsilon=0.00104)\n",
      "Score (max over agents) from episode 720: 0.09000 / 0.07400 (0.970 s, buf_size=28074, epsilon=0.00089)\n",
      "Score (max over agents) from episode 730: 0.09000 / 0.07960 (0.996 s, buf_size=28684, epsilon=0.00077)\n",
      "Score (max over agents) from episode 740: 0.10000 / 0.08550 (0.945 s, buf_size=29362, epsilon=0.00065)\n",
      "Score (max over agents) from episode 750: 0.10000 / 0.08680 (1.022 s, buf_size=29984, epsilon=0.00055)\n",
      "Score (max over agents) from episode 760: 0.09000 / 0.08710 (1.002 s, buf_size=30566, epsilon=0.00048)\n",
      "Score (max over agents) from episode 770: 0.09000 / 0.08890 (0.957 s, buf_size=31294, epsilon=0.00040)\n",
      "Score (max over agents) from episode 780: 0.20000 / 0.09140 (2.892 s, buf_size=32022, epsilon=0.00033)\n",
      "Score (max over agents) from episode 790: 0.09000 / 0.09350 (0.984 s, buf_size=32662, epsilon=0.00028)\n",
      "Score (max over agents) from episode 800: 0.20000 / 0.09970 (2.236 s, buf_size=33748, epsilon=0.00022)\n"
     ]
    },
    {
     "name": "stdout",
     "output_type": "stream",
     "text": [
      "Score (max over agents) from episode 810: 0.10000 / 0.10290 (0.984 s, buf_size=34438, epsilon=0.00018)\n",
      "Score (max over agents) from episode 820: 0.20000 / 0.10730 (2.663 s, buf_size=35360, epsilon=0.00014)\n",
      "Score (max over agents) from episode 830: 0.10000 / 0.11280 (1.697 s, buf_size=36500, epsilon=0.00011)\n",
      "Score (max over agents) from episode 840: 0.10000 / 0.11370 (0.941 s, buf_size=37350, epsilon=0.00009)\n",
      "Score (max over agents) from episode 850: 0.09000 / 0.11730 (0.933 s, buf_size=38184, epsilon=0.00007)\n",
      "Score (max over agents) from episode 860: 0.10000 / 0.11920 (0.997 s, buf_size=38914, epsilon=0.00006)\n",
      "Score (max over agents) from episode 870: 0.10000 / 0.11850 (1.018 s, buf_size=39526, epsilon=0.00005)\n",
      "Score (max over agents) from episode 880: 0.30000 / 0.12270 (3.314 s, buf_size=40610, epsilon=0.00004)\n",
      "Score (max over agents) from episode 890: 0.20000 / 0.12770 (2.866 s, buf_size=41740, epsilon=0.00003)\n",
      "Score (max over agents) from episode 900: 0.10000 / 0.12550 (0.992 s, buf_size=42628, epsilon=0.00002)\n",
      "Score (max over agents) from episode 910: 0.09000 / 0.12750 (1.042 s, buf_size=43562, epsilon=0.00002)\n",
      "Score (max over agents) from episode 920: 0.10000 / 0.12550 (0.926 s, buf_size=44294, epsilon=0.00002)\n",
      "Score (max over agents) from episode 930: 0.10000 / 0.12340 (0.975 s, buf_size=45214, epsilon=0.00001)\n",
      "Score (max over agents) from episode 940: 0.20000 / 0.12470 (2.169 s, buf_size=46188, epsilon=0.00001)\n",
      "Score (max over agents) from episode 950: 0.09000 / 0.14400 (0.970 s, buf_size=48592, epsilon=0.00001)\n",
      "Score (max over agents) from episode 960: 0.60000 / 0.15620 (7.115 s, buf_size=50338, epsilon=0.00000)\n",
      "Score (max over agents) from episode 970: 1.30000 / 0.23940 (16.487 s, buf_size=57544, epsilon=0.00000)\n",
      "Score (max over agents) from episode 980: 1.30000 / 0.34730 (15.712 s, buf_size=66974, epsilon=0.00000)\n",
      "Score (max over agents) from episode 990: 1.40000 / 0.49060 (18.031 s, buf_size=79062, epsilon=0.00000)\n",
      "Score (max over agents) from episode 1000: 0.20000 / 0.64290 (3.600 s, buf_size=91690, epsilon=0.00000)\n",
      "Score (max over agents) from episode 1010: 0.50000 / 0.72810 (5.975 s, buf_size=99346, epsilon=0.00000)\n",
      "Score (max over agents) from episode 1020: 1.00000 / 0.86130 (12.889 s, buf_size=100000, epsilon=0.00000)\n",
      "Score (max over agents) from episode 1030: 2.30000 / 0.99550 (29.204 s, buf_size=100000, epsilon=0.00000)\n"
     ]
    }
   ],
   "source": [
    "score_history = []\n",
    "smoothed_score_history = []\n",
    "time_for_each_episode = []\n",
    "for i in range(1, n_episodes):\n",
    "    start = time.time()\n",
    "    env_info = env.reset(train_mode=True)[brain_name]     # reset the environment    \n",
    "    states = env_info.vector_observations                  # get the current state (for each agent)\n",
    "    agent.reset()\n",
    "    scores = np.zeros(num_agents)                          # initialize the score (for each agent)\n",
    "    while True:\n",
    "        epsilon *= epsilon_decay\n",
    "        if np.random.uniform()<max(epsilon, epsilon_min):\n",
    "            actions = np.random.randn(num_agents, action_size) # select an action (for each agent)\n",
    "            actions = np.clip(actions, -1, 1)                  # all actions between -1 and 1\n",
    "        else:\n",
    "            actions = [agent.act(states[0:1,:]), agent.act(states[1:,:])]\n",
    "        env_info = env.step(actions)[brain_name]           # send all actions to tne environment\n",
    "        next_states = env_info.vector_observations         # get next state (for each agent)\n",
    "        rewards = env_info.rewards                         # get reward (for each agent)\n",
    "        dones = env_info.local_done                        # see if episode finished\n",
    "        for state, action, reward, next_state, done in zip(states, actions, rewards, next_states, dones):\n",
    "            agent.step(state, action, reward, next_state, done)\n",
    "        scores += env_info.rewards                         # update the score (for each agent)\n",
    "        states = next_states                               # roll over states to next time step\n",
    "        if np.any(dones):                                  # exit loop if episode finished\n",
    "            break\n",
    "    score_history.append(np.max(scores))\n",
    "    n_valid_scores = min(len(score_history), 100)\n",
    "    smoothed_score_history.append(sum(score_history[-n_valid_scores:])/n_valid_scores)\n",
    "    time_for_each_episode.append(time.time()-start)\n",
    "    if i%10==0:\n",
    "        print(f'Score (max over agents) from episode {i}: '\n",
    "              f'{score_history[-1]:.5f} / {smoothed_score_history[-1]:.5f} ' \n",
    "              f'({time_for_each_episode[-1]:.3f} s, buf_size={len(agent.memory)}, epsilon={epsilon:.5f})')\n",
    "    torch.save(agent.actor_local.state_dict(), 'checkpoint_actor.pth')\n",
    "    torch.save(agent.critic_local.state_dict(), 'checkpoint_critic.pth')\n",
    "    if smoothed_score_history[-1]>1:\n",
    "        break"
   ]
  },
  {
   "cell_type": "code",
   "execution_count": 7,
   "metadata": {},
   "outputs": [
    {
     "data": {
      "image/png": "[encoded data removed]",
      "text/plain": [
       "<Figure size 432x288 with 1 Axes>"
      ]
     },
     "metadata": {
      "needs_background": "light"
     },
     "output_type": "display_data"
    }
   ],
   "source": [
    "fig = plt.figure()\n",
    "ax = fig.add_subplot(111)\n",
    "n_scores = len(score_history)\n",
    "plt.plot(np.arange(1, n_scores+1), score_history, label=\"raw\")\n",
    "if n_scores>=100:\n",
    "    plt.plot(\n",
    "        np.arange(101, n_scores+1),\n",
    "        smoothed_score_history[100:],\n",
    "        label=\"smoothed\",\n",
    "    )\n",
    "plt.plot()\n",
    "plt.ylabel('Score')\n",
    "plt.xlabel('Episode #')\n",
    "plt.legend()\n",
    "plt.show()"
   ]
  },
  {
   "cell_type": "code",
   "execution_count": 11,
   "metadata": {},
   "outputs": [
    {
     "name": "stdout",
     "output_type": "stream",
     "text": [
      "Score (max over agents) from episode 1: 0.10000 (5.852 s)\n",
      "Score (max over agents) from episode 2: 2.60000 (24.332 s)\n",
      "Score (max over agents) from episode 3: 0.10000 (26.711 s)\n",
      "Score (max over agents) from episode 4: 2.60000 (45.279 s)\n",
      "Score (max over agents) from episode 5: 0.20000 (48.299 s)\n",
      "Score (max over agents) from episode 6: 2.60000 (66.609 s)\n",
      "Score (max over agents) from episode 7: 0.00000 (68.667 s)\n",
      "Score (max over agents) from episode 8: 2.10000 (84.070 s)\n",
      "Score (max over agents) from episode 9: 2.60000 (102.545 s)\n",
      "Score (max over agents) from episode 10: 2.60000 (121.095 s)\n",
      "mean score over 10 : 1.5500000230967999\n"
     ]
    }
   ],
   "source": [
    "n_episodes = 10\n",
    "#agent.load('checkpoint_actor.pth', 'checkpoint_critic.pth')\n",
    "score_history = []\n",
    "start = time.time()\n",
    "time.sleep(5)\n",
    "for i in range(1, n_episodes+1):\n",
    "    env_info = env.reset(train_mode=True)[brain_name]     # reset the environment    \n",
    "    states = env_info.vector_observations                  # get the current state (for each agent)\n",
    "    agent.reset()\n",
    "    scores = np.zeros(num_agents)                          # initialize the score (for each agent)\n",
    "    while True:\n",
    "        actions = [agent.act(states[0:1,:]), agent.act(states[1:,:])]\n",
    "        env_info = env.step(actions)[brain_name]           # send all actions to tne environment\n",
    "        next_states = env_info.vector_observations         # get next state (for each agent)\n",
    "        rewards = env_info.rewards                         # get reward (for each agent)\n",
    "        dones = env_info.local_done                        # see if episode finished\n",
    "        scores += env_info.rewards                         # update the score (for each agent)\n",
    "        states = next_states                               # roll over states to next time step\n",
    "        if np.any(dones):                                  # exit loop if episode finished\n",
    "            break\n",
    "        time.sleep(0.01)\n",
    "    score_history.append(np.max(scores))\n",
    "    print(f'Score (max over agents) from episode {i}: {score_history[-1]:.5f} ' \n",
    "          f'({time.time()-start:.3f} s)')\n",
    "    time.sleep(2)\n",
    "print(f'mean score over {len(score_history)} : {sum(score_history)/len(score_history)}')"
   ]
  },
  {
   "cell_type": "markdown",
   "metadata": {},
   "source": []
  }
 ],
 "metadata": {
  "kernelspec": {
   "display_name": "Python 3",
   "language": "python",
   "name": "python3"
  },
  "language_info": {
   "codemirror_mode": {
    "name": "ipython",
    "version": 3
   },
   "file_extension": ".py",
   "mimetype": "text/x-python",
   "name": "python",
   "nbconvert_exporter": "python",
   "pygments_lexer": "ipython3",
   "version": "3.6.13"
  }
 },
 "nbformat": 4,
 "nbformat_minor": 2
}
